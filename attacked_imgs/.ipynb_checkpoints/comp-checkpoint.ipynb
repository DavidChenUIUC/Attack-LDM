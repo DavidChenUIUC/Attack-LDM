{
 "cells": [
  {
   "cell_type": "code",
   "execution_count": 1,
   "id": "db7907e2-6df5-4f18-b004-365bc8db67bb",
   "metadata": {
    "tags": []
   },
   "outputs": [
    {
     "ename": "ModuleNotFoundError",
     "evalue": "No module named 'Deepface'",
     "output_type": "error",
     "traceback": [
      "\u001b[0;31m---------------------------------------------------------------------------\u001b[0m",
      "\u001b[0;31mModuleNotFoundError\u001b[0m                       Traceback (most recent call last)",
      "Cell \u001b[0;32mIn[1], line 3\u001b[0m\n\u001b[1;32m      1\u001b[0m \u001b[38;5;28;01mimport\u001b[39;00m \u001b[38;5;21;01msys\u001b[39;00m\u001b[38;5;241m,\u001b[39m \u001b[38;5;21;01mos\u001b[39;00m\n\u001b[1;32m      2\u001b[0m sys\u001b[38;5;241m.\u001b[39mpath\u001b[38;5;241m.\u001b[39mappend(\u001b[38;5;124m\"\u001b[39m\u001b[38;5;124m.\u001b[39m\u001b[38;5;124m\"\u001b[39m)\n\u001b[0;32m----> 3\u001b[0m \u001b[38;5;28;01mfrom\u001b[39;00m \u001b[38;5;21;01mDeepface\u001b[39;00m\u001b[38;5;21;01m.\u001b[39;00m\u001b[38;5;21;01mdeepface\u001b[39;00m \u001b[38;5;28;01mimport\u001b[39;00m DeepFace\n\u001b[1;32m      4\u001b[0m \u001b[38;5;28;01mdef\u001b[39;00m \u001b[38;5;21moverall_comp\u001b[39m(img1, img2):\n\u001b[1;32m      5\u001b[0m     result \u001b[38;5;241m=\u001b[39m DeepFace\u001b[38;5;241m.\u001b[39mverify(img1_path \u001b[38;5;241m=\u001b[39m img1, img2_path \u001b[38;5;241m=\u001b[39mimg2)\n",
      "\u001b[0;31mModuleNotFoundError\u001b[0m: No module named 'Deepface'"
     ]
    }
   ],
   "source": [
    "import sys, os\n",
    "sys.path.append(\".\")\n",
    "from Deepface.deepface import DeepFace\n",
    "def overall_comp(img1, img2):\n",
    "    result = DeepFace.verify(img1_path = img1, img2_path =img2)\n",
    "    return result"
   ]
  },
  {
   "cell_type": "code",
   "execution_count": null,
   "id": "49bb3193-8f19-4705-afed-4c19c98d2ccd",
   "metadata": {},
   "outputs": [],
   "source": []
  }
 ],
 "metadata": {
  "kernelspec": {
   "display_name": "Python 3 (ipykernel)",
   "language": "python",
   "name": "python3"
  },
  "language_info": {
   "codemirror_mode": {
    "name": "ipython",
    "version": 3
   },
   "file_extension": ".py",
   "mimetype": "text/x-python",
   "name": "python",
   "nbconvert_exporter": "python",
   "pygments_lexer": "ipython3",
   "version": "3.10.6"
  }
 },
 "nbformat": 4,
 "nbformat_minor": 5
}
